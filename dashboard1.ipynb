{
 "cells": [
  {
   "cell_type": "code",
   "execution_count": 1,
   "id": "ab4d0e43",
   "metadata": {},
   "outputs": [],
   "source": [
    "import pandas as pd\n",
    "from jupyter_dash import JupyterDash\n",
    "from dash import html, Input, Output, dcc, Dash\n",
    "import plotly.express as plt"
   ]
  },
  {
   "cell_type": "code",
   "execution_count": 2,
   "id": "8dac9bf9",
   "metadata": {},
   "outputs": [],
   "source": [
    "df=pd.read_excel(r\"C:\\Users\\paolo\\OneDrive\\Documenti\\Imprese artigiane.xlsx\")"
   ]
  },
  {
   "cell_type": "code",
   "execution_count": 3,
   "id": "cffbed6d",
   "metadata": {},
   "outputs": [
    {
     "data": {
      "text/plain": [
       "Index(['Anno', 'Codice Ateco', 'Regione', 'Imprese artigiane totali '], dtype='object')"
      ]
     },
     "execution_count": 3,
     "metadata": {},
     "output_type": "execute_result"
    }
   ],
   "source": [
    "df.columns\n"
   ]
  },
  {
   "cell_type": "code",
   "execution_count": 4,
   "id": "3913569e",
   "metadata": {},
   "outputs": [
    {
     "name": "stdout",
     "output_type": "stream",
     "text": [
      "['PIE' 'VAO' 'LOM' 'TAA' 'VEN' 'FVG' 'LIG' 'EMI' 'TOS' 'UMB' 'MAR' 'LAZ'\n",
      " 'ABR' 'MOL' 'CAM' 'PUG' 'BAS' 'CAL' 'SIC' 'SAR' 'ITALIA']\n"
     ]
    },
    {
     "data": {
      "text/html": [
       "<div>\n",
       "<style scoped>\n",
       "    .dataframe tbody tr th:only-of-type {\n",
       "        vertical-align: middle;\n",
       "    }\n",
       "\n",
       "    .dataframe tbody tr th {\n",
       "        vertical-align: top;\n",
       "    }\n",
       "\n",
       "    .dataframe thead th {\n",
       "        text-align: right;\n",
       "    }\n",
       "</style>\n",
       "<table border=\"1\" class=\"dataframe\">\n",
       "  <thead>\n",
       "    <tr style=\"text-align: right;\">\n",
       "      <th></th>\n",
       "      <th>Anno</th>\n",
       "      <th>Codice Ateco</th>\n",
       "      <th>Regione</th>\n",
       "      <th>Imprese artigiane totali</th>\n",
       "    </tr>\n",
       "  </thead>\n",
       "  <tbody>\n",
       "    <tr>\n",
       "      <th>203</th>\n",
       "      <td>2012</td>\n",
       "      <td>H 49</td>\n",
       "      <td>CAM</td>\n",
       "      <td>3593</td>\n",
       "    </tr>\n",
       "    <tr>\n",
       "      <th>204</th>\n",
       "      <td>2012</td>\n",
       "      <td>H 49</td>\n",
       "      <td>PUG</td>\n",
       "      <td>4105</td>\n",
       "    </tr>\n",
       "    <tr>\n",
       "      <th>205</th>\n",
       "      <td>2012</td>\n",
       "      <td>H 49</td>\n",
       "      <td>BAS</td>\n",
       "      <td>802</td>\n",
       "    </tr>\n",
       "    <tr>\n",
       "      <th>206</th>\n",
       "      <td>2012</td>\n",
       "      <td>H 49</td>\n",
       "      <td>CAL</td>\n",
       "      <td>1658</td>\n",
       "    </tr>\n",
       "    <tr>\n",
       "      <th>207</th>\n",
       "      <td>2012</td>\n",
       "      <td>H 49</td>\n",
       "      <td>SIC</td>\n",
       "      <td>4791</td>\n",
       "    </tr>\n",
       "    <tr>\n",
       "      <th>208</th>\n",
       "      <td>2012</td>\n",
       "      <td>H 49</td>\n",
       "      <td>SAR</td>\n",
       "      <td>2876</td>\n",
       "    </tr>\n",
       "    <tr>\n",
       "      <th>209</th>\n",
       "      <td>2012</td>\n",
       "      <td>H 49</td>\n",
       "      <td>ITALIA</td>\n",
       "      <td>94861</td>\n",
       "    </tr>\n",
       "  </tbody>\n",
       "</table>\n",
       "</div>"
      ],
      "text/plain": [
       "     Anno Codice Ateco Regione  Imprese artigiane totali \n",
       "203  2012         H 49     CAM                       3593\n",
       "204  2012         H 49     PUG                       4105\n",
       "205  2012         H 49     BAS                        802\n",
       "206  2012         H 49     CAL                       1658\n",
       "207  2012         H 49     SIC                       4791\n",
       "208  2012         H 49     SAR                       2876\n",
       "209  2012         H 49  ITALIA                      94861"
      ]
     },
     "execution_count": 4,
     "metadata": {},
     "output_type": "execute_result"
    }
   ],
   "source": [
    "print(df[\"Regione\"].unique())\n",
    "df.tail(7)\n"
   ]
  },
  {
   "cell_type": "code",
   "execution_count": 15,
   "id": "dc907808",
   "metadata": {},
   "outputs": [
    {
     "name": "stdout",
     "output_type": "stream",
     "text": [
      "Dash app running on http://127.0.0.1:8050/\n"
     ]
    }
   ],
   "source": [
    "app=JupyterDash()\n",
    "regione=dcc.Dropdown(options=df[\"Regione\"].unique(), value=\"ITALIA\")\n",
    "app.layout=html.Div(children=[\n",
    "    html.H1(children=\"Variazione numero imprese nel settore autotrasporti\"),\n",
    "    regione,\n",
    "    dcc.Graph(id=\"Regione\")\n",
    "])\n",
    "\n",
    "@app.callback(\n",
    "    Output(component_id=\"Regione\", component_property=\"figure\"),\n",
    "    Input(component_id= regione, component_property=\"value\")\n",
    ")\n",
    "def update_graph(selected_region):\n",
    "    filtered_reg=df[df[\"Regione\"]==selected_region]\n",
    "    line_fg= plt.line(filtered_reg, y=\"Imprese artigiane totali \", x=\"Anno\", title=f\"Variazione numero imprese artigiane in {selected_region} (ITALIA/sigla regione) negli ultimi dieci anni\")\n",
    "    return line_fg\n",
    "if __name__ == '__main__':\n",
    "    app.run_server(debug=True)"
   ]
  },
  {
   "cell_type": "code",
   "execution_count": null,
   "id": "92272a1f",
   "metadata": {},
   "outputs": [],
   "source": []
  }
 ],
 "metadata": {
  "kernelspec": {
   "display_name": "Python 3 (ipykernel)",
   "language": "python",
   "name": "python3"
  },
  "language_info": {
   "codemirror_mode": {
    "name": "ipython",
    "version": 3
   },
   "file_extension": ".py",
   "mimetype": "text/x-python",
   "name": "python",
   "nbconvert_exporter": "python",
   "pygments_lexer": "ipython3",
   "version": "3.9.7"
  }
 },
 "nbformat": 4,
 "nbformat_minor": 5
}
